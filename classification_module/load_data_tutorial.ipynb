{
 "cells": [
  {
   "cell_type": "markdown",
   "id": "9a40142d",
   "metadata": {},
   "source": [
    "## ClickBait data 불러오기\n",
    "\n",
    "### 데이터 파일 저장하기\n",
    "아래 링크에서 labeeld_data.zip 파일을 다운받아 적절한 위치에 저장한 후 압축을 풀어주세요.\n",
    "  \n",
    "AI Hub의 '낚시성 기사 탐지 데이터'의 라벨링 데이터의 저장되어 있는 구조를 약간 변형하고 서브 디렉토리들의 압축을 풀어 저장해놓은 버전입니다.\n",
    "\n",
    "드라이브 링크: \n",
    "https://drive.google.com/drive/folders/1kC1-GzNGQY-kX5rv0AH1JAtXz4NkyamD?usp=sharing\n",
    "\n",
    "### 데이터 설명\n",
    "\n",
    "labeled_data 디렉토리 안에는 4개의 디렉토리가 있습니다.\n",
    "\n",
    "##### training_set\n",
    "전체 labeled training data를 담은 디렉토리입니다.\n",
    "##### training_set_mini\n",
    "labeled training data 중 2개의 sub directory만 담은 작은 크기의 데이터입니다.\n",
    "##### validation_set\n",
    "전체 labeled validation data를 담은 디렉토리입니다.\n",
    "##### training_set_mini\n",
    "labeled validation data 중 1개의 sub directory만 담은 작은 크기의 데이터입니다.\n",
    "\n",
    "\n",
    "### 필요한 라이브러리 import\n",
    "\n",
    "데이터를 불러오는 방법입니다.\n",
    "\n",
    "우선 필요한 라이브러리 (pandas)와 데이터를 불러오는 함수가 구현돼있는 data_processing을 import 합니다."
   ]
  },
  {
   "cell_type": "code",
   "execution_count": 1,
   "id": "1314a0bf",
   "metadata": {},
   "outputs": [],
   "source": [
    "import pandas as pd\n",
    "import data_load"
   ]
  },
  {
   "cell_type": "markdown",
   "id": "b6dfb579",
   "metadata": {},
   "source": [
    "----\n",
    "### 데이터 불러오기\n",
    "'load_entire_labeled_data' 함수를 통해 데이터를 불러옵니다.\n",
    "\n",
    "##### 첫번째 argument\n",
    "  \n",
    "제가 보내드린 데이터 디렉토리의 경로\n",
    "  \n",
    "(ex. 'training_set_mini', 'training_set', 'validation_set_mini'. 'valication_set'등의 디렉토리)\n",
    "\n",
    "##### 두번째 argument\n",
    "서브 디렉토리(ex. TL_Part1_Clickbait_Auto_EC 등)의 압축을 풀고 로드할 것인지 아닌지를 결정하는 인자.\n",
    "  \n",
    "1: 압축을 풂, 0: 압축을 풀지 않음\n",
    "  \n",
    "제가 미리 압축을 다 풀어놓은 상태이므로, 0으로 놓고 실행해주세요.\n",
    "\n"
   ]
  },
  {
   "cell_type": "code",
   "execution_count": 2,
   "id": "8415735d",
   "metadata": {},
   "outputs": [
    {
     "name": "stdout",
     "output_type": "stream",
     "text": [
      "[INFO] loading labeled data...\n",
      "[INFO] program was done.\n",
      "[INFO] execution time:  69.75007009506226\n"
     ]
    }
   ],
   "source": [
    "df = data_load.load_entire_labeled_data('./data/labeled_data/training_set_mini', 0)"
   ]
  },
  {
   "cell_type": "markdown",
   "id": "6e6186e5",
   "metadata": {},
   "source": [
    "---\n",
    "### 데이터 확인\n",
    "\n",
    "데이터를 불러왔으니, 데이터 개수와 데이터가 어떻게 구성되어 있는지 확인해보겠습니다."
   ]
  },
  {
   "cell_type": "code",
   "execution_count": 3,
   "id": "c11becae",
   "metadata": {},
   "outputs": [
    {
     "name": "stdout",
     "output_type": "stream",
     "text": [
      "데이터 개수:  47474\n"
     ]
    },
    {
     "data": {
      "text/html": [
       "<div>\n",
       "<style scoped>\n",
       "    .dataframe tbody tr th:only-of-type {\n",
       "        vertical-align: middle;\n",
       "    }\n",
       "\n",
       "    .dataframe tbody tr th {\n",
       "        vertical-align: top;\n",
       "    }\n",
       "\n",
       "    .dataframe thead th {\n",
       "        text-align: right;\n",
       "    }\n",
       "</style>\n",
       "<table border=\"1\" class=\"dataframe\">\n",
       "  <thead>\n",
       "    <tr style=\"text-align: right;\">\n",
       "      <th></th>\n",
       "      <th>newsID</th>\n",
       "      <th>newsCategory</th>\n",
       "      <th>newsSubcategory</th>\n",
       "      <th>newsTitle</th>\n",
       "      <th>newsSubTitle</th>\n",
       "      <th>newsContent</th>\n",
       "      <th>partNum</th>\n",
       "      <th>useType</th>\n",
       "      <th>processType</th>\n",
       "      <th>processPattern</th>\n",
       "      <th>processLevel</th>\n",
       "      <th>sentenceCount</th>\n",
       "      <th>sentenceInfo</th>\n",
       "      <th>newTitle</th>\n",
       "      <th>clickbaitClass</th>\n",
       "      <th>referSentenceInfo</th>\n",
       "    </tr>\n",
       "  </thead>\n",
       "  <tbody>\n",
       "    <tr>\n",
       "      <th>sourceDataInfo</th>\n",
       "      <td>ET_M03_033499</td>\n",
       "      <td>연예</td>\n",
       "      <td>연예가화제</td>\n",
       "      <td>아무리 먹어도 살 안 찐다는 '22인치 개미허리' 아이돌</td>\n",
       "      <td></td>\n",
       "      <td>먹어도 몸무게가 늘지 않는 걸스데이 소진의 체질이 많은 여성들의 부러움을 사고 있다...</td>\n",
       "      <td>P1</td>\n",
       "      <td>0</td>\n",
       "      <td>A</td>\n",
       "      <td>99</td>\n",
       "      <td>하</td>\n",
       "      <td>7</td>\n",
       "      <td>sentenceNo                                 ...</td>\n",
       "      <td>NaN</td>\n",
       "      <td>0</td>\n",
       "      <td>NaN</td>\n",
       "    </tr>\n",
       "    <tr>\n",
       "      <th>sourceDataInfo</th>\n",
       "      <td>ET_M13_023928</td>\n",
       "      <td>연예</td>\n",
       "      <td>음악</td>\n",
       "      <td>퍼플키스, 타이틀곡 ‘좀비’…트랙리스트 공개</td>\n",
       "      <td></td>\n",
       "      <td>‘밸런스돌’ 퍼플키스(PURPLE KISS)가 신보 트랙리스트를 공개하며 컴백 기대...</td>\n",
       "      <td>P1</td>\n",
       "      <td>0</td>\n",
       "      <td>A</td>\n",
       "      <td>99</td>\n",
       "      <td>하</td>\n",
       "      <td>10</td>\n",
       "      <td>sentenceNo                                 ...</td>\n",
       "      <td>NaN</td>\n",
       "      <td>0</td>\n",
       "      <td>NaN</td>\n",
       "    </tr>\n",
       "    <tr>\n",
       "      <th>sourceDataInfo</th>\n",
       "      <td>ET_M13_021346</td>\n",
       "      <td>연예</td>\n",
       "      <td>연예일반</td>\n",
       "      <td>걸그룹 출신 진리아, 티앤아이컬쳐스 전속계약</td>\n",
       "      <td></td>\n",
       "      <td>걸그룹 ‘에바스’에서 활동한 진리아가 종합 엔터테인먼트 그룹 티앤아이컬쳐스와 전속계...</td>\n",
       "      <td>P1</td>\n",
       "      <td>0</td>\n",
       "      <td>A</td>\n",
       "      <td>99</td>\n",
       "      <td>하</td>\n",
       "      <td>6</td>\n",
       "      <td>sentenceNo                                 ...</td>\n",
       "      <td>NaN</td>\n",
       "      <td>0</td>\n",
       "      <td>NaN</td>\n",
       "    </tr>\n",
       "    <tr>\n",
       "      <th>sourceDataInfo</th>\n",
       "      <td>ET_M03_036085</td>\n",
       "      <td>연예</td>\n",
       "      <td>연예가화제</td>\n",
       "      <td>식음전폐하는 유기견 위해 우리에서 식사한 수의사</td>\n",
       "      <td></td>\n",
       "      <td>식음을 전폐하는 유기견이 밥을 먹을 수 있을 때까지 매일 아침 우리에 들어가 함께 ...</td>\n",
       "      <td>P1</td>\n",
       "      <td>0</td>\n",
       "      <td>A</td>\n",
       "      <td>99</td>\n",
       "      <td>하</td>\n",
       "      <td>6</td>\n",
       "      <td>sentenceNo                                 ...</td>\n",
       "      <td>NaN</td>\n",
       "      <td>0</td>\n",
       "      <td>NaN</td>\n",
       "    </tr>\n",
       "    <tr>\n",
       "      <th>sourceDataInfo</th>\n",
       "      <td>ET_M03_039250</td>\n",
       "      <td>연예</td>\n",
       "      <td>연예가화제</td>\n",
       "      <td>삼시세끼 박형식, 나영석 PD \\\"어촌편과 정말 잘 맞을 것 같았다\\\"</td>\n",
       "      <td></td>\n",
       "      <td>'삼시세끼-어촌편2' 나영석 PD가 게스트로 촬영을 마친 박형식에 대한 생각을 밝혔...</td>\n",
       "      <td>P1</td>\n",
       "      <td>0</td>\n",
       "      <td>A</td>\n",
       "      <td>99</td>\n",
       "      <td>하</td>\n",
       "      <td>6</td>\n",
       "      <td>sentenceNo                                 ...</td>\n",
       "      <td>NaN</td>\n",
       "      <td>0</td>\n",
       "      <td>NaN</td>\n",
       "    </tr>\n",
       "  </tbody>\n",
       "</table>\n",
       "</div>"
      ],
      "text/plain": [
       "                       newsID newsCategory newsSubcategory  \\\n",
       "sourceDataInfo  ET_M03_033499           연예           연예가화제   \n",
       "sourceDataInfo  ET_M13_023928           연예              음악   \n",
       "sourceDataInfo  ET_M13_021346           연예            연예일반   \n",
       "sourceDataInfo  ET_M03_036085           연예           연예가화제   \n",
       "sourceDataInfo  ET_M03_039250           연예           연예가화제   \n",
       "\n",
       "                                              newsTitle newsSubTitle  \\\n",
       "sourceDataInfo          아무리 먹어도 살 안 찐다는 '22인치 개미허리' 아이돌                \n",
       "sourceDataInfo                 퍼플키스, 타이틀곡 ‘좀비’…트랙리스트 공개                \n",
       "sourceDataInfo                 걸그룹 출신 진리아, 티앤아이컬쳐스 전속계약                \n",
       "sourceDataInfo               식음전폐하는 유기견 위해 우리에서 식사한 수의사                \n",
       "sourceDataInfo  삼시세끼 박형식, 나영석 PD \\\"어촌편과 정말 잘 맞을 것 같았다\\\"                \n",
       "\n",
       "                                                      newsContent partNum  \\\n",
       "sourceDataInfo  먹어도 몸무게가 늘지 않는 걸스데이 소진의 체질이 많은 여성들의 부러움을 사고 있다...      P1   \n",
       "sourceDataInfo  ‘밸런스돌’ 퍼플키스(PURPLE KISS)가 신보 트랙리스트를 공개하며 컴백 기대...      P1   \n",
       "sourceDataInfo  걸그룹 ‘에바스’에서 활동한 진리아가 종합 엔터테인먼트 그룹 티앤아이컬쳐스와 전속계...      P1   \n",
       "sourceDataInfo  식음을 전폐하는 유기견이 밥을 먹을 수 있을 때까지 매일 아침 우리에 들어가 함께 ...      P1   \n",
       "sourceDataInfo  '삼시세끼-어촌편2' 나영석 PD가 게스트로 촬영을 마친 박형식에 대한 생각을 밝혔...      P1   \n",
       "\n",
       "                useType processType processPattern processLevel  \\\n",
       "sourceDataInfo        0           A             99            하   \n",
       "sourceDataInfo        0           A             99            하   \n",
       "sourceDataInfo        0           A             99            하   \n",
       "sourceDataInfo        0           A             99            하   \n",
       "sourceDataInfo        0           A             99            하   \n",
       "\n",
       "                sentenceCount  \\\n",
       "sourceDataInfo              7   \n",
       "sourceDataInfo             10   \n",
       "sourceDataInfo              6   \n",
       "sourceDataInfo              6   \n",
       "sourceDataInfo              6   \n",
       "\n",
       "                                                     sentenceInfo  newTitle  \\\n",
       "sourceDataInfo     sentenceNo                                 ...       NaN   \n",
       "sourceDataInfo     sentenceNo                                 ...       NaN   \n",
       "sourceDataInfo     sentenceNo                                 ...       NaN   \n",
       "sourceDataInfo     sentenceNo                                 ...       NaN   \n",
       "sourceDataInfo     sentenceNo                                 ...       NaN   \n",
       "\n",
       "                clickbaitClass  referSentenceInfo  \n",
       "sourceDataInfo               0                NaN  \n",
       "sourceDataInfo               0                NaN  \n",
       "sourceDataInfo               0                NaN  \n",
       "sourceDataInfo               0                NaN  \n",
       "sourceDataInfo               0                NaN  "
      ]
     },
     "execution_count": 3,
     "metadata": {},
     "output_type": "execute_result"
    }
   ],
   "source": [
    "print('데이터 개수: ', len(df))\n",
    "df.head()"
   ]
  },
  {
   "cell_type": "markdown",
   "id": "f0243369",
   "metadata": {},
   "source": [
    "### 데이터 feature 확인\n",
    "\n",
    "주요 feature와 언급이 필요한 것들만 간략하게 써보겠습니다.\n",
    "\n",
    "- newsTitle: 뉴스의 제목입니다.\n",
    "- newsSubTitle: 뉴스의 부제목으로 있는 기사가 있고 없는 기사도 있습니다.\n",
    "- newsContent: 뉴스의 전체 내용이 하나의 스트링으로 저장되어 있습니다.\n",
    "- sentenceInfo: newsContent가 sentence 단위로 나뉘어서 데이터프레임의 형태로 저장되어 있습니다.\n",
    "- clickbaitClass: 이 데이터의 label로, 0: clickbait, 1: non clickbait입니다.\n",
    "\n",
    "----\n",
    "\n",
    "하나의 뉴스 데이터를 가지고 피쳐들을 살펴보겠습니다.\n",
    "  \n",
    "0번째 뉴스데이터를 가져오겠습니다.\n",
    "  \n",
    "특정 뉴스 데이터 하나는 'df.iloc[인덱스번호]'로 가져올 수 있습니다."
   ]
  },
  {
   "cell_type": "code",
   "execution_count": 4,
   "id": "adb12386",
   "metadata": {},
   "outputs": [
    {
     "data": {
      "text/plain": [
       "newsID                                                   ET_M03_033499\n",
       "newsCategory                                                        연예\n",
       "newsSubcategory                                                  연예가화제\n",
       "newsTitle                              아무리 먹어도 살 안 찐다는 '22인치 개미허리' 아이돌\n",
       "newsSubTitle                                                          \n",
       "newsContent          먹어도 몸무게가 늘지 않는 걸스데이 소진의 체질이 많은 여성들의 부러움을 사고 있다...\n",
       "partNum                                                             P1\n",
       "useType                                                              0\n",
       "processType                                                          A\n",
       "processPattern                                                      99\n",
       "processLevel                                                         하\n",
       "sentenceCount                                                        7\n",
       "sentenceInfo            sentenceNo                                 ...\n",
       "newTitle                                                           NaN\n",
       "clickbaitClass                                                       0\n",
       "referSentenceInfo                                                  NaN\n",
       "Name: sourceDataInfo, dtype: object"
      ]
     },
     "execution_count": 4,
     "metadata": {},
     "output_type": "execute_result"
    }
   ],
   "source": [
    "one_news_data = df.iloc[0]\n",
    "one_news_data"
   ]
  },
  {
   "cell_type": "markdown",
   "id": "405efcfb",
   "metadata": {},
   "source": [
    "#### newsContent"
   ]
  },
  {
   "cell_type": "code",
   "execution_count": 5,
   "id": "782592e3",
   "metadata": {},
   "outputs": [
    {
     "data": {
      "text/plain": [
       "'먹어도 몸무게가 늘지 않는 걸스데이 소진의 체질이 많은 여성들의 부러움을 사고 있다.\\n1년 8개월만에 컴백해 한층 더 성숙해진 모습을 보여주고 있는 걸스데이의 멤버 소진은 최근 진행된 KBS 2TV \\'1대 100\\' 녹화에 참여했다.\\n이날 조충현 아나운서가 \\\\\"멤버들이 소진에게 불만을 품는다는데 무슨 이유냐\\\\\"고 묻자 소진은 \\\\\"내가 살이 잘 안 찌는 체질이라 컴백을 앞두면 멤버들은 굶어야 하는데 나는 많이 먹어 오히려 몸을 불려 나온다\\\\\"고 말했다.\\n소진의 말은 많은 여성들의 부러움을 사기에 충분했지만 그녀 나름의 고충도 있었다.\\n소진은 \\\\\"근육으로 불릴 수는 있어도 오래 가진 않더라\\\\\"고 하며 쉽게 찌지 않는 살에 대한 아쉬움을 드러냈다.\\n또 살을 찌웠을 때의 허리 사이즈를 묻는 질문에 소진은 \\\\\"몸무게는 항상 49~50kg이다. 허리에서 가장 가는 곳은 22인치 정도\\\\\"라고 밝혀 당시 녹화에 있던 사람들을 놀라게 했다는 후문이다.\\n한편 소진이 출연하는 \\'1대 100\\'은 오늘 밤 8시 55분 KBS 2TV에서 시청할 수 있다.'"
      ]
     },
     "execution_count": 5,
     "metadata": {},
     "output_type": "execute_result"
    }
   ],
   "source": [
    "one_news_data['newsContent']"
   ]
  },
  {
   "cell_type": "markdown",
   "id": "98af068d",
   "metadata": {},
   "source": [
    "#### sentenceInfo"
   ]
  },
  {
   "cell_type": "code",
   "execution_count": 6,
   "id": "ee204f39",
   "metadata": {},
   "outputs": [
    {
     "data": {
      "text/html": [
       "<div>\n",
       "<style scoped>\n",
       "    .dataframe tbody tr th:only-of-type {\n",
       "        vertical-align: middle;\n",
       "    }\n",
       "\n",
       "    .dataframe tbody tr th {\n",
       "        vertical-align: top;\n",
       "    }\n",
       "\n",
       "    .dataframe thead th {\n",
       "        text-align: right;\n",
       "    }\n",
       "</style>\n",
       "<table border=\"1\" class=\"dataframe\">\n",
       "  <thead>\n",
       "    <tr style=\"text-align: right;\">\n",
       "      <th></th>\n",
       "      <th>sentenceNo</th>\n",
       "      <th>sentenceContent</th>\n",
       "      <th>sentenceSize</th>\n",
       "    </tr>\n",
       "  </thead>\n",
       "  <tbody>\n",
       "    <tr>\n",
       "      <th>0</th>\n",
       "      <td>1</td>\n",
       "      <td>먹어도 몸무게가 늘지 않는 걸스데이 소진의 체질이 많은 여성들의 부러움을 사고 있다.</td>\n",
       "      <td>47</td>\n",
       "    </tr>\n",
       "    <tr>\n",
       "      <th>1</th>\n",
       "      <td>2</td>\n",
       "      <td>1년 8개월만에 컴백해 한층 더 성숙해진 모습을 보여주고 있는 걸스데이의 멤버 소진...</td>\n",
       "      <td>81</td>\n",
       "    </tr>\n",
       "    <tr>\n",
       "      <th>2</th>\n",
       "      <td>3</td>\n",
       "      <td>이날 조충현 아나운서가 \\\"멤버들이 소진에게 불만을 품는다는데 무슨 이유냐\\\"고 묻...</td>\n",
       "      <td>123</td>\n",
       "    </tr>\n",
       "    <tr>\n",
       "      <th>3</th>\n",
       "      <td>4</td>\n",
       "      <td>소진의 말은 많은 여성들의 부러움을 사기에 충분했지만 그녀 나름의 고충도 있었다.</td>\n",
       "      <td>45</td>\n",
       "    </tr>\n",
       "    <tr>\n",
       "      <th>4</th>\n",
       "      <td>5</td>\n",
       "      <td>소진은 \\\"근육으로 불릴 수는 있어도 오래 가진 않더라\\\"고 하며 쉽게 찌지 않는 ...</td>\n",
       "      <td>62</td>\n",
       "    </tr>\n",
       "    <tr>\n",
       "      <th>5</th>\n",
       "      <td>6</td>\n",
       "      <td>또 살을 찌웠을 때의 허리 사이즈를 묻는 질문에 소진은 \\\"몸무게는 항상 49~50...</td>\n",
       "      <td>109</td>\n",
       "    </tr>\n",
       "    <tr>\n",
       "      <th>6</th>\n",
       "      <td>7</td>\n",
       "      <td>한편 소진이 출연하는 '1대 100'은 오늘 밤 8시 55분 KBS 2TV에서 시청...</td>\n",
       "      <td>53</td>\n",
       "    </tr>\n",
       "  </tbody>\n",
       "</table>\n",
       "</div>"
      ],
      "text/plain": [
       "   sentenceNo                                    sentenceContent  sentenceSize\n",
       "0           1    먹어도 몸무게가 늘지 않는 걸스데이 소진의 체질이 많은 여성들의 부러움을 사고 있다.            47\n",
       "1           2  1년 8개월만에 컴백해 한층 더 성숙해진 모습을 보여주고 있는 걸스데이의 멤버 소진...            81\n",
       "2           3  이날 조충현 아나운서가 \\\"멤버들이 소진에게 불만을 품는다는데 무슨 이유냐\\\"고 묻...           123\n",
       "3           4      소진의 말은 많은 여성들의 부러움을 사기에 충분했지만 그녀 나름의 고충도 있었다.            45\n",
       "4           5  소진은 \\\"근육으로 불릴 수는 있어도 오래 가진 않더라\\\"고 하며 쉽게 찌지 않는 ...            62\n",
       "5           6  또 살을 찌웠을 때의 허리 사이즈를 묻는 질문에 소진은 \\\"몸무게는 항상 49~50...           109\n",
       "6           7  한편 소진이 출연하는 '1대 100'은 오늘 밤 8시 55분 KBS 2TV에서 시청...            53"
      ]
     },
     "execution_count": 6,
     "metadata": {},
     "output_type": "execute_result"
    }
   ],
   "source": [
    "one_news_data['sentenceInfo']"
   ]
  },
  {
   "cell_type": "markdown",
   "id": "301891f6",
   "metadata": {},
   "source": [
    "#### clickbaitClass (label)"
   ]
  },
  {
   "cell_type": "code",
   "execution_count": 7,
   "id": "62438ee5",
   "metadata": {},
   "outputs": [
    {
     "data": {
      "text/plain": [
       "0"
      ]
     },
     "execution_count": 7,
     "metadata": {},
     "output_type": "execute_result"
    }
   ],
   "source": [
    "one_news_data['clickbaitClass']"
   ]
  },
  {
   "cell_type": "markdown",
   "id": "78b66ea9",
   "metadata": {},
   "source": [
    "#### newsTitle, newsSubTitle"
   ]
  },
  {
   "cell_type": "code",
   "execution_count": 8,
   "id": "1068bd59",
   "metadata": {
    "scrolled": true
   },
   "outputs": [
    {
     "name": "stdout",
     "output_type": "stream",
     "text": [
      "Title:  아무리 먹어도 살 안 찐다는 '22인치 개미허리' 아이돌\n",
      "SubTitle:  \n"
     ]
    }
   ],
   "source": [
    "print('Title: ', one_news_data['newsTitle'])\n",
    "print('SubTitle: ', one_news_data['newsSubTitle']) # subtitle은 없는 경우도 존재합니다."
   ]
  },
  {
   "cell_type": "code",
   "execution_count": null,
   "id": "41f9b1df",
   "metadata": {},
   "outputs": [],
   "source": []
  }
 ],
 "metadata": {
  "kernelspec": {
   "display_name": "Python 3 (ipykernel)",
   "language": "python",
   "name": "python3"
  },
  "language_info": {
   "codemirror_mode": {
    "name": "ipython",
    "version": 3
   },
   "file_extension": ".py",
   "mimetype": "text/x-python",
   "name": "python",
   "nbconvert_exporter": "python",
   "pygments_lexer": "ipython3",
   "version": "3.11.6"
  }
 },
 "nbformat": 4,
 "nbformat_minor": 5
}
