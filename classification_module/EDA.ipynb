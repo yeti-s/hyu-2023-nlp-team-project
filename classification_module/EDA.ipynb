{
 "cells": [
  {
   "cell_type": "code",
   "execution_count": 33,
   "id": "9889a099",
   "metadata": {},
   "outputs": [],
   "source": [
    "import pandas as pd\n",
    "import numpy as np\n",
    "import matplotlib.pyplot as plt\n",
    "import data_load"
   ]
  },
  {
   "cell_type": "code",
   "execution_count": 34,
   "id": "8637bb6d",
   "metadata": {},
   "outputs": [
    {
     "name": "stdout",
     "output_type": "stream",
     "text": [
      "[INFO] loading labeled data...\n",
      "[INFO] program was done.\n",
      "[INFO] execution time:  4378.212255001068\n",
      "[INFO] loading labeled data...\n",
      "[INFO] program was done.\n",
      "[INFO] execution time:  158.8337619304657\n"
     ]
    }
   ],
   "source": [
    "df_train = data_load.load_entire_labeled_data('./data/labeled_data/training_set', 0)\n",
    "df_test = data_load.load_entire_labeled_data('./data/labeled_data/validation_set', 0)"
   ]
  },
  {
   "cell_type": "code",
   "execution_count": 45,
   "id": "4466d42b",
   "metadata": {},
   "outputs": [
    {
     "name": "stdout",
     "output_type": "stream",
     "text": [
      "학습 데이터 개수:  586724\n"
     ]
    },
    {
     "data": {
      "text/html": [
       "<div>\n",
       "<style scoped>\n",
       "    .dataframe tbody tr th:only-of-type {\n",
       "        vertical-align: middle;\n",
       "    }\n",
       "\n",
       "    .dataframe tbody tr th {\n",
       "        vertical-align: top;\n",
       "    }\n",
       "\n",
       "    .dataframe thead th {\n",
       "        text-align: right;\n",
       "    }\n",
       "</style>\n",
       "<table border=\"1\" class=\"dataframe\">\n",
       "  <thead>\n",
       "    <tr style=\"text-align: right;\">\n",
       "      <th></th>\n",
       "      <th>newsID</th>\n",
       "      <th>newsCategory</th>\n",
       "      <th>newsSubcategory</th>\n",
       "      <th>newsTitle</th>\n",
       "      <th>newsSubTitle</th>\n",
       "      <th>newsContent</th>\n",
       "      <th>partNum</th>\n",
       "      <th>useType</th>\n",
       "      <th>processType</th>\n",
       "      <th>processPattern</th>\n",
       "      <th>processLevel</th>\n",
       "      <th>sentenceCount</th>\n",
       "      <th>sentenceInfo</th>\n",
       "      <th>newTitle</th>\n",
       "      <th>clickbaitClass</th>\n",
       "      <th>referSentenceInfo</th>\n",
       "      <th>processSentencenum</th>\n",
       "      <th>processSentenceInfo</th>\n",
       "    </tr>\n",
       "  </thead>\n",
       "  <tbody>\n",
       "    <tr>\n",
       "      <th>sourceDataInfo</th>\n",
       "      <td>SO_M01_140082</td>\n",
       "      <td>사회</td>\n",
       "      <td>사회</td>\n",
       "      <td>임대주택 쫓겨나는 사람들, 밀린 월세는 누가 낼까</td>\n",
       "      <td>LH공사는 임대인지위, 관리비용은 복지시설에 전가… 명색만 주거복지, 관리주체도 불분명</td>\n",
       "      <td>#사례 1. 74년생 여성으로 자녀가 5명인 한 부모 가정 기초생활수급비에 의존해 ...</td>\n",
       "      <td>P1</td>\n",
       "      <td>0</td>\n",
       "      <td>A</td>\n",
       "      <td>99</td>\n",
       "      <td>하</td>\n",
       "      <td>34</td>\n",
       "      <td>sentenceNo                                ...</td>\n",
       "      <td>NaN</td>\n",
       "      <td>0</td>\n",
       "      <td>NaN</td>\n",
       "      <td>NaN</td>\n",
       "      <td>NaN</td>\n",
       "    </tr>\n",
       "    <tr>\n",
       "      <th>sourceDataInfo</th>\n",
       "      <td>SO_M01_138845</td>\n",
       "      <td>사회</td>\n",
       "      <td>사회</td>\n",
       "      <td>새마을운동이 한류? EBS도 '친정권방송'에 합류하나</td>\n",
       "      <td>통일부 업무협약 맺고 ‘통일은 대박’ 기획…EBS “원래 통일 관심 많아, 코드 맞...</td>\n",
       "      <td>EBS가 박근혜 정권 기조와 정책에 발맞추는 프로그램을 내보내거나 기획하고 있다.\\...</td>\n",
       "      <td>P1</td>\n",
       "      <td>0</td>\n",
       "      <td>A</td>\n",
       "      <td>99</td>\n",
       "      <td>하</td>\n",
       "      <td>23</td>\n",
       "      <td>sentenceNo                                ...</td>\n",
       "      <td>NaN</td>\n",
       "      <td>0</td>\n",
       "      <td>NaN</td>\n",
       "      <td>NaN</td>\n",
       "      <td>NaN</td>\n",
       "    </tr>\n",
       "    <tr>\n",
       "      <th>sourceDataInfo</th>\n",
       "      <td>SO_M06_133062</td>\n",
       "      <td>사회</td>\n",
       "      <td>사회,사회일반,사회일반</td>\n",
       "      <td>슬기로운 은퇴 생활의 변수는 ‘연금’…5060세대 주소득원으로 꼽아</td>\n",
       "      <td>5060세대, 은퇴 후 ‘연금+보유자산’으로 생활할 것으로 기대은퇴 생활 기대감, ...</td>\n",
       "      <td>은퇴 후 생활에 있어 ‘연금’이 중요한 소득원을 떠올랐다.\\n5060세대의 10명 ...</td>\n",
       "      <td>P1</td>\n",
       "      <td>0</td>\n",
       "      <td>A</td>\n",
       "      <td>99</td>\n",
       "      <td>하</td>\n",
       "      <td>17</td>\n",
       "      <td>sentenceNo                                ...</td>\n",
       "      <td>NaN</td>\n",
       "      <td>0</td>\n",
       "      <td>NaN</td>\n",
       "      <td>NaN</td>\n",
       "      <td>NaN</td>\n",
       "    </tr>\n",
       "    <tr>\n",
       "      <th>sourceDataInfo</th>\n",
       "      <td>SO_M02_124749</td>\n",
       "      <td>사회</td>\n",
       "      <td>전국</td>\n",
       "      <td>도시가스협회 민들레카, 2년동안 4,500명에 130km 여행 선물</td>\n",
       "      <td></td>\n",
       "      <td>한국도시가스협회(회장 구자철)는 자사의 대표 사회 공헌 사업인 민들레카 서비스가2년...</td>\n",
       "      <td>P1</td>\n",
       "      <td>0</td>\n",
       "      <td>A</td>\n",
       "      <td>99</td>\n",
       "      <td>하</td>\n",
       "      <td>10</td>\n",
       "      <td>sentenceNo                                 ...</td>\n",
       "      <td>NaN</td>\n",
       "      <td>0</td>\n",
       "      <td>NaN</td>\n",
       "      <td>NaN</td>\n",
       "      <td>NaN</td>\n",
       "    </tr>\n",
       "    <tr>\n",
       "      <th>sourceDataInfo</th>\n",
       "      <td>SO_M06_129546</td>\n",
       "      <td>사회</td>\n",
       "      <td>사회,사회일반,사회일반</td>\n",
       "      <td>美 화이자·모더나 심근염 이상반응 우려에…당국 \\\"조치 준비중\\\"</td>\n",
       "      <td>CDC \\\"접종 후 젊은 층에서 심근염 발생률 높아\\\"\\\"국내에선 아직 접종자 적어...</td>\n",
       "      <td>화이자나 모더나 신종 코로나바이러스 감염증(코로나19) 백신을 맞은 젊은층이 높은 ...</td>\n",
       "      <td>P1</td>\n",
       "      <td>0</td>\n",
       "      <td>A</td>\n",
       "      <td>99</td>\n",
       "      <td>하</td>\n",
       "      <td>12</td>\n",
       "      <td>sentenceNo                                ...</td>\n",
       "      <td>NaN</td>\n",
       "      <td>0</td>\n",
       "      <td>NaN</td>\n",
       "      <td>NaN</td>\n",
       "      <td>NaN</td>\n",
       "    </tr>\n",
       "  </tbody>\n",
       "</table>\n",
       "</div>"
      ],
      "text/plain": [
       "                       newsID newsCategory newsSubcategory  \\\n",
       "sourceDataInfo  SO_M01_140082           사회              사회   \n",
       "sourceDataInfo  SO_M01_138845           사회              사회   \n",
       "sourceDataInfo  SO_M06_133062           사회    사회,사회일반,사회일반   \n",
       "sourceDataInfo  SO_M02_124749           사회              전국   \n",
       "sourceDataInfo  SO_M06_129546           사회    사회,사회일반,사회일반   \n",
       "\n",
       "                                            newsTitle  \\\n",
       "sourceDataInfo            임대주택 쫓겨나는 사람들, 밀린 월세는 누가 낼까   \n",
       "sourceDataInfo          새마을운동이 한류? EBS도 '친정권방송'에 합류하나   \n",
       "sourceDataInfo  슬기로운 은퇴 생활의 변수는 ‘연금’…5060세대 주소득원으로 꼽아   \n",
       "sourceDataInfo  도시가스협회 민들레카, 2년동안 4,500명에 130km 여행 선물   \n",
       "sourceDataInfo   美 화이자·모더나 심근염 이상반응 우려에…당국 \\\"조치 준비중\\\"   \n",
       "\n",
       "                                                     newsSubTitle  \\\n",
       "sourceDataInfo   LH공사는 임대인지위, 관리비용은 복지시설에 전가… 명색만 주거복지, 관리주체도 불분명   \n",
       "sourceDataInfo  통일부 업무협약 맺고 ‘통일은 대박’ 기획…EBS “원래 통일 관심 많아, 코드 맞...   \n",
       "sourceDataInfo  5060세대, 은퇴 후 ‘연금+보유자산’으로 생활할 것으로 기대은퇴 생활 기대감, ...   \n",
       "sourceDataInfo                                                      \n",
       "sourceDataInfo  CDC \\\"접종 후 젊은 층에서 심근염 발생률 높아\\\"\\\"국내에선 아직 접종자 적어...   \n",
       "\n",
       "                                                      newsContent partNum  \\\n",
       "sourceDataInfo  #사례 1. 74년생 여성으로 자녀가 5명인 한 부모 가정 기초생활수급비에 의존해 ...      P1   \n",
       "sourceDataInfo  EBS가 박근혜 정권 기조와 정책에 발맞추는 프로그램을 내보내거나 기획하고 있다.\\...      P1   \n",
       "sourceDataInfo  은퇴 후 생활에 있어 ‘연금’이 중요한 소득원을 떠올랐다.\\n5060세대의 10명 ...      P1   \n",
       "sourceDataInfo  한국도시가스협회(회장 구자철)는 자사의 대표 사회 공헌 사업인 민들레카 서비스가2년...      P1   \n",
       "sourceDataInfo  화이자나 모더나 신종 코로나바이러스 감염증(코로나19) 백신을 맞은 젊은층이 높은 ...      P1   \n",
       "\n",
       "                useType processType processPattern processLevel  \\\n",
       "sourceDataInfo        0           A             99            하   \n",
       "sourceDataInfo        0           A             99            하   \n",
       "sourceDataInfo        0           A             99            하   \n",
       "sourceDataInfo        0           A             99            하   \n",
       "sourceDataInfo        0           A             99            하   \n",
       "\n",
       "                sentenceCount  \\\n",
       "sourceDataInfo             34   \n",
       "sourceDataInfo             23   \n",
       "sourceDataInfo             17   \n",
       "sourceDataInfo             10   \n",
       "sourceDataInfo             12   \n",
       "\n",
       "                                                     sentenceInfo  newTitle  \\\n",
       "sourceDataInfo      sentenceNo                                ...       NaN   \n",
       "sourceDataInfo      sentenceNo                                ...       NaN   \n",
       "sourceDataInfo      sentenceNo                                ...       NaN   \n",
       "sourceDataInfo     sentenceNo                                 ...       NaN   \n",
       "sourceDataInfo      sentenceNo                                ...       NaN   \n",
       "\n",
       "                clickbaitClass  referSentenceInfo  processSentencenum  \\\n",
       "sourceDataInfo               0                NaN                 NaN   \n",
       "sourceDataInfo               0                NaN                 NaN   \n",
       "sourceDataInfo               0                NaN                 NaN   \n",
       "sourceDataInfo               0                NaN                 NaN   \n",
       "sourceDataInfo               0                NaN                 NaN   \n",
       "\n",
       "                processSentenceInfo  \n",
       "sourceDataInfo                  NaN  \n",
       "sourceDataInfo                  NaN  \n",
       "sourceDataInfo                  NaN  \n",
       "sourceDataInfo                  NaN  \n",
       "sourceDataInfo                  NaN  "
      ]
     },
     "execution_count": 45,
     "metadata": {},
     "output_type": "execute_result"
    }
   ],
   "source": [
    "print('학습 데이터 개수: ', len(df_train))\n",
    "df_train.head()"
   ]
  },
  {
   "cell_type": "code",
   "execution_count": 44,
   "id": "0ba2d35d",
   "metadata": {},
   "outputs": [
    {
     "name": "stdout",
     "output_type": "stream",
     "text": [
      "테스트 데이터 개수:  73321\n"
     ]
    },
    {
     "data": {
      "text/html": [
       "<div>\n",
       "<style scoped>\n",
       "    .dataframe tbody tr th:only-of-type {\n",
       "        vertical-align: middle;\n",
       "    }\n",
       "\n",
       "    .dataframe tbody tr th {\n",
       "        vertical-align: top;\n",
       "    }\n",
       "\n",
       "    .dataframe thead th {\n",
       "        text-align: right;\n",
       "    }\n",
       "</style>\n",
       "<table border=\"1\" class=\"dataframe\">\n",
       "  <thead>\n",
       "    <tr style=\"text-align: right;\">\n",
       "      <th></th>\n",
       "      <th>newsID</th>\n",
       "      <th>newsCategory</th>\n",
       "      <th>newsSubcategory</th>\n",
       "      <th>newsTitle</th>\n",
       "      <th>newsSubTitle</th>\n",
       "      <th>newsContent</th>\n",
       "      <th>partNum</th>\n",
       "      <th>useType</th>\n",
       "      <th>processType</th>\n",
       "      <th>processPattern</th>\n",
       "      <th>processLevel</th>\n",
       "      <th>sentenceCount</th>\n",
       "      <th>processSentencenum</th>\n",
       "      <th>sentenceInfo</th>\n",
       "      <th>processSentenceInfo</th>\n",
       "      <th>clickbaitClass</th>\n",
       "      <th>newTitle</th>\n",
       "      <th>referSentenceInfo</th>\n",
       "    </tr>\n",
       "  </thead>\n",
       "  <tbody>\n",
       "    <tr>\n",
       "      <th>sourceDataInfo</th>\n",
       "      <td>ET_M13_732224</td>\n",
       "      <td>연예</td>\n",
       "      <td>방송</td>\n",
       "      <td>‘전참시’ 아이키, 모교를 뒤흔든 ‘스트릿 당진 파이터’</td>\n",
       "      <td></td>\n",
       "      <td>댄서 아이키가 MBC ‘전지적 참견시점’에 출연해 모교를 방문했다.\\n지난 4일 방...</td>\n",
       "      <td>P2</td>\n",
       "      <td>1</td>\n",
       "      <td>A</td>\n",
       "      <td>00</td>\n",
       "      <td>하</td>\n",
       "      <td>19</td>\n",
       "      <td>0.0</td>\n",
       "      <td>sentenceNo                                ...</td>\n",
       "      <td>NaN</td>\n",
       "      <td>1</td>\n",
       "      <td>NaN</td>\n",
       "      <td>NaN</td>\n",
       "    </tr>\n",
       "    <tr>\n",
       "      <th>sourceDataInfo</th>\n",
       "      <td>ET_M13_732575</td>\n",
       "      <td>연예</td>\n",
       "      <td>방송</td>\n",
       "      <td>김선화, MBC 새 금토극 ‘빅마우스’ 출연[공식]</td>\n",
       "      <td></td>\n",
       "      <td>배우 김선화가 MBC 새 금토드라마 ‘빅마우스’에 출연한다.\\nMBC 새 금토드라마...</td>\n",
       "      <td>P2</td>\n",
       "      <td>1</td>\n",
       "      <td>A</td>\n",
       "      <td>00</td>\n",
       "      <td>하</td>\n",
       "      <td>7</td>\n",
       "      <td>0.0</td>\n",
       "      <td>sentenceNo                                 ...</td>\n",
       "      <td>NaN</td>\n",
       "      <td>1</td>\n",
       "      <td>NaN</td>\n",
       "      <td>NaN</td>\n",
       "    </tr>\n",
       "    <tr>\n",
       "      <th>sourceDataInfo</th>\n",
       "      <td>ET_M13_733042</td>\n",
       "      <td>연예</td>\n",
       "      <td>연예일반</td>\n",
       "      <td>이정재, 돌아온 ‘오징어 게임’ 성기훈</td>\n",
       "      <td></td>\n",
       "      <td>‘오징어 게임’ 시즌2 제작이 확정된 가운데 주연 배우 이정재가 근황을 알렸다.\\n...</td>\n",
       "      <td>P2</td>\n",
       "      <td>1</td>\n",
       "      <td>A</td>\n",
       "      <td>00</td>\n",
       "      <td>하</td>\n",
       "      <td>7</td>\n",
       "      <td>0.0</td>\n",
       "      <td>sentenceNo                                 ...</td>\n",
       "      <td>NaN</td>\n",
       "      <td>1</td>\n",
       "      <td>NaN</td>\n",
       "      <td>NaN</td>\n",
       "    </tr>\n",
       "    <tr>\n",
       "      <th>sourceDataInfo</th>\n",
       "      <td>ET_M13_732193</td>\n",
       "      <td>연예</td>\n",
       "      <td>방송</td>\n",
       "      <td>‘국대는 국대다’ 이원희 현역복귀, 심장이 뛴다[채널예약]</td>\n",
       "      <td></td>\n",
       "      <td>“대학 동기 이원희를 위해 20년 만에 입었어요!” ‘국대는 국대다’ 페이스메이커 ...</td>\n",
       "      <td>P2</td>\n",
       "      <td>1</td>\n",
       "      <td>A</td>\n",
       "      <td>00</td>\n",
       "      <td>하</td>\n",
       "      <td>9</td>\n",
       "      <td>0.0</td>\n",
       "      <td>sentenceNo                                 ...</td>\n",
       "      <td>NaN</td>\n",
       "      <td>1</td>\n",
       "      <td>NaN</td>\n",
       "      <td>NaN</td>\n",
       "    </tr>\n",
       "    <tr>\n",
       "      <th>sourceDataInfo</th>\n",
       "      <td>ET_M13_732324</td>\n",
       "      <td>연예</td>\n",
       "      <td>음악</td>\n",
       "      <td>버가부, 신곡 ‘POP’ 맛보기 공개</td>\n",
       "      <td></td>\n",
       "      <td>그룹 버가부(bugAboo)가 신곡 일부를 최초 공개했다.\\n버가부(초연, 유우나,...</td>\n",
       "      <td>P2</td>\n",
       "      <td>1</td>\n",
       "      <td>A</td>\n",
       "      <td>00</td>\n",
       "      <td>하</td>\n",
       "      <td>8</td>\n",
       "      <td>0.0</td>\n",
       "      <td>sentenceNo                                 ...</td>\n",
       "      <td>NaN</td>\n",
       "      <td>1</td>\n",
       "      <td>NaN</td>\n",
       "      <td>NaN</td>\n",
       "    </tr>\n",
       "  </tbody>\n",
       "</table>\n",
       "</div>"
      ],
      "text/plain": [
       "                       newsID newsCategory newsSubcategory  \\\n",
       "sourceDataInfo  ET_M13_732224           연예              방송   \n",
       "sourceDataInfo  ET_M13_732575           연예              방송   \n",
       "sourceDataInfo  ET_M13_733042           연예            연예일반   \n",
       "sourceDataInfo  ET_M13_732193           연예              방송   \n",
       "sourceDataInfo  ET_M13_732324           연예              음악   \n",
       "\n",
       "                                       newsTitle newsSubTitle  \\\n",
       "sourceDataInfo   ‘전참시’ 아이키, 모교를 뒤흔든 ‘스트릿 당진 파이터’                \n",
       "sourceDataInfo      김선화, MBC 새 금토극 ‘빅마우스’ 출연[공식]                \n",
       "sourceDataInfo             이정재, 돌아온 ‘오징어 게임’ 성기훈                \n",
       "sourceDataInfo  ‘국대는 국대다’ 이원희 현역복귀, 심장이 뛴다[채널예약]                \n",
       "sourceDataInfo              버가부, 신곡 ‘POP’ 맛보기 공개                \n",
       "\n",
       "                                                      newsContent partNum  \\\n",
       "sourceDataInfo  댄서 아이키가 MBC ‘전지적 참견시점’에 출연해 모교를 방문했다.\\n지난 4일 방...      P2   \n",
       "sourceDataInfo  배우 김선화가 MBC 새 금토드라마 ‘빅마우스’에 출연한다.\\nMBC 새 금토드라마...      P2   \n",
       "sourceDataInfo  ‘오징어 게임’ 시즌2 제작이 확정된 가운데 주연 배우 이정재가 근황을 알렸다.\\n...      P2   \n",
       "sourceDataInfo  “대학 동기 이원희를 위해 20년 만에 입었어요!” ‘국대는 국대다’ 페이스메이커 ...      P2   \n",
       "sourceDataInfo  그룹 버가부(bugAboo)가 신곡 일부를 최초 공개했다.\\n버가부(초연, 유우나,...      P2   \n",
       "\n",
       "                useType processType processPattern processLevel  \\\n",
       "sourceDataInfo        1           A             00            하   \n",
       "sourceDataInfo        1           A             00            하   \n",
       "sourceDataInfo        1           A             00            하   \n",
       "sourceDataInfo        1           A             00            하   \n",
       "sourceDataInfo        1           A             00            하   \n",
       "\n",
       "                sentenceCount  processSentencenum  \\\n",
       "sourceDataInfo             19                 0.0   \n",
       "sourceDataInfo              7                 0.0   \n",
       "sourceDataInfo              7                 0.0   \n",
       "sourceDataInfo              9                 0.0   \n",
       "sourceDataInfo              8                 0.0   \n",
       "\n",
       "                                                     sentenceInfo  \\\n",
       "sourceDataInfo      sentenceNo                                ...   \n",
       "sourceDataInfo     sentenceNo                                 ...   \n",
       "sourceDataInfo     sentenceNo                                 ...   \n",
       "sourceDataInfo     sentenceNo                                 ...   \n",
       "sourceDataInfo     sentenceNo                                 ...   \n",
       "\n",
       "                processSentenceInfo  clickbaitClass  newTitle  \\\n",
       "sourceDataInfo                  NaN               1       NaN   \n",
       "sourceDataInfo                  NaN               1       NaN   \n",
       "sourceDataInfo                  NaN               1       NaN   \n",
       "sourceDataInfo                  NaN               1       NaN   \n",
       "sourceDataInfo                  NaN               1       NaN   \n",
       "\n",
       "                referSentenceInfo  \n",
       "sourceDataInfo                NaN  \n",
       "sourceDataInfo                NaN  \n",
       "sourceDataInfo                NaN  \n",
       "sourceDataInfo                NaN  \n",
       "sourceDataInfo                NaN  "
      ]
     },
     "execution_count": 44,
     "metadata": {},
     "output_type": "execute_result"
    }
   ],
   "source": [
    "print('테스트 데이터 개수: ', len(df_test))\n",
    "df_test.head()"
   ]
  },
  {
   "cell_type": "code",
   "execution_count": 46,
   "id": "67bca0c3",
   "metadata": {},
   "outputs": [
    {
     "name": "stdout",
     "output_type": "stream",
     "text": [
      "newsTitle 평균 길이(train set):  30.993230207047947\n"
     ]
    },
    {
     "data": {
      "text/plain": [
       "<Axes: >"
      ]
     },
     "execution_count": 46,
     "metadata": {},
     "output_type": "execute_result"
    },
    {
     "data": {
      "image/png": "[encoded data removed]",
      "text/plain": [
       "<Figure size 640x480 with 1 Axes>"
      ]
     },
     "metadata": {},
     "output_type": "display_data"
    }
   ],
   "source": [
    "# news title 평균 길이\n",
    "train_title_len_mean = np.mean(df_train['newsTitle'].str.len())\n",
    "print(\"newsTitle 평균 길이(train set): \", train_title_len_mean)\n",
    "\n",
    "df_train['newsTitle'].str.len().hist()\n"
   ]
  },
  {
   "cell_type": "code",
   "execution_count": 48,
   "id": "0d094808",
   "metadata": {},
   "outputs": [
    {
     "name": "stdout",
     "output_type": "stream",
     "text": [
      "newsTitle 평균 길이(test set):  31.18897723708078\n"
     ]
    },
    {
     "data": {
      "text/plain": [
       "<Axes: >"
      ]
     },
     "execution_count": 48,
     "metadata": {},
     "output_type": "execute_result"
    },
    {
     "data": {
      "image/png": "[encoded data removed]",
      "text/plain": [
       "<Figure size 640x480 with 1 Axes>"
      ]
     },
     "metadata": {},
     "output_type": "display_data"
    }
   ],
   "source": [
    "# news title 평균 길이\n",
    "test_title_len_mean = np.mean(df_test['newsTitle'].str.len())\n",
    "print(\"newsTitle 평균 길이(test set): \", test_title_len_mean)\n",
    "\n",
    "df_test['newsTitle'].str.len().hist()"
   ]
  },
  {
   "cell_type": "code",
   "execution_count": 50,
   "id": "1c96ca99",
   "metadata": {},
   "outputs": [
    {
     "name": "stdout",
     "output_type": "stream",
     "text": [
      "newsContent 평균 길이(train):  1059.275030508382\n"
     ]
    },
    {
     "data": {
      "text/plain": [
       "<Axes: >"
      ]
     },
     "execution_count": 50,
     "metadata": {},
     "output_type": "execute_result"
    },
    {
     "data": {
      "image/png": "[encoded data removed]",
      "text/plain": [
       "<Figure size 640x480 with 1 Axes>"
      ]
     },
     "metadata": {},
     "output_type": "display_data"
    }
   ],
   "source": [
    "train_content_len_mean = np.mean(df_train['newsContent'].str.len())\n",
    "print(\"newsContent 평균 길이(train): \",train_content_len_mean)\n",
    "\n",
    "df_train['newsContent'].str.len().hist()"
   ]
  },
  {
   "cell_type": "code",
   "execution_count": 51,
   "id": "47ce4a1c",
   "metadata": {},
   "outputs": [
    {
     "name": "stdout",
     "output_type": "stream",
     "text": [
      "newsContent 평균 길이(test):  1119.5604533489723\n"
     ]
    },
    {
     "data": {
      "text/plain": [
       "<Axes: >"
      ]
     },
     "execution_count": 51,
     "metadata": {},
     "output_type": "execute_result"
    },
    {
     "data": {
      "image/png": "[encoded data removed]",
      "text/plain": [
       "<Figure size 640x480 with 1 Axes>"
      ]
     },
     "metadata": {},
     "output_type": "display_data"
    }
   ],
   "source": [
    "test_content_len_mean = np.mean(df_test['newsContent'].str.len())\n",
    "print(\"newsContent 평균 길이(test): \",test_content_len_mean)\n",
    "\n",
    "df_test['newsContent'].str.len().hist()"
   ]
  },
  {
   "cell_type": "code",
   "execution_count": 56,
   "id": "161b4fc1",
   "metadata": {},
   "outputs": [
    {
     "name": "stdout",
     "output_type": "stream",
     "text": [
      "학습 데이터의 clickbait Class\n",
      "0    296035\n",
      "1    290689\n",
      "Name: clickbaitClass, dtype: int64\n",
      "\n",
      "테스트 데이터의 clickbait Class\n",
      "0    36991\n",
      "1    36330\n",
      "Name: clickbaitClass, dtype: int64\n"
     ]
    }
   ],
   "source": [
    "print('학습 데이터의 clickbait Class')\n",
    "print(df_train['clickbaitClass'].value_counts())\n",
    "\n",
    "print('\\n테스트 데이터의 clickbait Class')\n",
    "print(df_test['clickbaitClass'].value_counts())"
   ]
  },
  {
   "cell_type": "code",
   "execution_count": 59,
   "id": "e8f8b8d8",
   "metadata": {},
   "outputs": [
    {
     "name": "stdout",
     "output_type": "stream",
     "text": [
      "학습 데이터의 카테고리 별 뉴스 수\n",
      "사회       116222\n",
      "세계        90712\n",
      "경제        83145\n",
      "IT&과학     80974\n",
      "정치        79816\n",
      "연예        72325\n",
      "생활&문화     63530\n",
      "Name: newsCategory, dtype: int64\n",
      "\n",
      "\n",
      "테스트 데이터의 카테고리 별 뉴스 수\n",
      "사회       14524\n",
      "세계       11337\n",
      "경제       10390\n",
      "IT&과학    10119\n",
      "정치        9975\n",
      "연예        9038\n",
      "생활&문화     7938\n",
      "Name: newsCategory, dtype: int64\n"
     ]
    }
   ],
   "source": [
    "print('학습 데이터의 카테고리 별 뉴스 수')\n",
    "print(df_train['newsCategory'].value_counts())\n",
    "\n",
    "print('\\n\\n테스트 데이터의 카테고리 별 뉴스 수')\n",
    "print(df_test['newsCategory'].value_counts())"
   ]
  },
  {
   "cell_type": "code",
   "execution_count": 65,
   "id": "1063c2a2",
   "metadata": {},
   "outputs": [
    {
     "name": "stdout",
     "output_type": "stream",
     "text": [
      "학습 데이터의 카테고리 별 비율\n",
      "사회 :   0.1980863233820331\n",
      "세계 :   0.15460761789188784\n",
      "경제 :   0.1417105828294053\n",
      "IT&과학 :   0.13801037625868381\n",
      "정치 :   0.1360367055037803\n",
      "연예 :   0.12326920323695639\n",
      "생활&문화 :   0.10827919089725323\n",
      "\n",
      "\n",
      "테스트 데이터의 카테고리 별 비율\n",
      "사회 :   0.19808786023103886\n",
      "세계 :   0.15462145906356978\n",
      "경제 :   0.1417056504957652\n",
      "IT&과학 :   0.13800957433750222\n",
      "정치 :   0.13604560767038093\n",
      "연예 :   0.12326618567668199\n",
      "생활&문화 :   0.10826366252506103\n"
     ]
    }
   ],
   "source": [
    "category_list = ['사회', '세계', '경제', 'IT&과학', '정치', '연예', '생활&문화']\n",
    "\n",
    "print('학습 데이터의 카테고리 별 비율')\n",
    "train_list = list(df_train['newsCategory'].value_counts())\n",
    "for i, cnt in enumerate(train_list):\n",
    "    print(category_list[i], ':  ', cnt / len(df_train))\n",
    "\n",
    "print('\\n\\n테스트 데이터의 카테고리 별 비율')\n",
    "test_list = list(df_test['newsCategory'].value_counts())\n",
    "for i, cnt in enumerate(test_list):\n",
    "    print(category_list[i],':  ',cnt / len(df_test))"
   ]
  },
  {
   "cell_type": "code",
   "execution_count": 68,
   "id": "b07ad907",
   "metadata": {},
   "outputs": [
    {
     "data": {
      "image/png": "[encoded data removed]",
      "text/plain": [
       "<Figure size 1000x750 with 1 Axes>"
      ]
     },
     "metadata": {},
     "output_type": "display_data"
    }
   ],
   "source": [
    "# 카테고리의 분포 살펴보기\n",
    "\n",
    "%matplotlib inline\n",
    "plt.style.use(\"ggplot\")\n",
    "\n",
    "categories = df_train['newsCategory']\n",
    "plt.figure(figsize=(10,7.5)) # 그래프 이미지 크기 설정\n",
    "\n",
    "_x = ['EC', 'ET', 'GB', 'IS', 'LC', 'PO', 'SO']\n",
    "_y = [0 for i in range(len(_x))]\n",
    "x_to_y = {'경제': 0, '연예': 1, '세계': 2, 'IT&과학': 3, '생활&문화': 4, '정치': 5, '사회':6}\n",
    "\n",
    "for i, category in enumerate(categories):\n",
    "    y_idx = x_to_y[category]\n",
    "    _y[y_idx] += 1\n",
    "\n",
    "# temp = categories.value_counts() # feature 변수의 변수별 개수 계산\n",
    "plt.bar(_x, _y, width=0.5, color='b', alpha=0.5) # 막대그래프 생성\n",
    "plt.show()\n",
    "    \n"
   ]
  },
  {
   "cell_type": "code",
   "execution_count": 69,
   "id": "e38b2c0f",
   "metadata": {},
   "outputs": [
    {
     "data": {
      "image/png": "[encoded data removed]",
      "text/plain": [
       "<Figure size 1000x750 with 1 Axes>"
      ]
     },
     "metadata": {},
     "output_type": "display_data"
    }
   ],
   "source": [
    "# 카테고리의 분포 살펴보기\n",
    "\n",
    "%matplotlib inline\n",
    "plt.style.use(\"ggplot\")\n",
    "\n",
    "categories = df_test['newsCategory']\n",
    "plt.figure(figsize=(10,7.5)) # 그래프 이미지 크기 설정\n",
    "\n",
    "_x = ['EC', 'ET', 'GB', 'IS', 'LC', 'PO', 'SO']\n",
    "_y = [0 for i in range(len(_x))]\n",
    "x_to_y = {'경제': 0, '연예': 1, '세계': 2, 'IT&과학': 3, '생활&문화': 4, '정치': 5, '사회':6}\n",
    "\n",
    "for i, category in enumerate(categories):\n",
    "    y_idx = x_to_y[category]\n",
    "    _y[y_idx] += 1\n",
    "\n",
    "# temp = categories.value_counts() # feature 변수의 변수별 개수 계산\n",
    "plt.bar(_x, _y, width=0.5, color='b', alpha=0.5) # 막대그래프 생성\n",
    "plt.show()"
   ]
  },
  {
   "cell_type": "code",
   "execution_count": 90,
   "id": "5f88eba9",
   "metadata": {},
   "outputs": [
    {
     "name": "stdout",
     "output_type": "stream",
     "text": [
      "학습 데이터 분포\n"
     ]
    },
    {
     "data": {
      "image/png": "[encoded data removed]",
      "text/plain": [
       "<Figure size 1800x700 with 1 Axes>"
      ]
     },
     "metadata": {},
     "output_type": "display_data"
    }
   ],
   "source": [
    "# 카테고리의 분포 살펴보기\n",
    "\n",
    "%matplotlib inline\n",
    "plt.style.use(\"ggplot\")\n",
    "\n",
    "categories = df_train['newsCategory']\n",
    "clickbait = df_train['clickbaitClass']\n",
    "plt.figure(figsize=(18, 7)) # 그래프 이미지 크기 설정\n",
    "\n",
    "print('학습 데이터 분포')\n",
    "\n",
    "_x = ['EC_c', 'EC_nc', 'ET_c', 'ET_nc', 'GB_c', 'GB_nc', 'IS_c', 'IS_nc', 'LC_c', 'LC_nc', 'PO_c', 'PO_nc', 'SO_c', 'SO_nc']\n",
    "_y = [0 for i in range(len(_x))]\n",
    "\n",
    "x_to_y = {'경제': 0, '연예': 1, '세계': 2, 'IT&과학': 3, '생활&문화': 4, '정치': 5, '사회':6}\n",
    "\n",
    "for i, category in enumerate(categories):\n",
    "    y_idx = x_to_y[category]\n",
    "\n",
    "    if not clickbait[i]: # 낚시\n",
    "        _y[y_idx*2] += 1\n",
    "    else: # 정상 뉴스\n",
    "        _y[y_idx*2+1] += 1\n",
    "        \n",
    "\n",
    "# temp = categories.value_counts() # feature 변수의 변수별 개수 계산\n",
    "plt.bar(_x, _y, width=0.2, color='b', alpha=0.5) # 막대그래프 생성\n",
    "plt.xticks()\n",
    "plt.show()"
   ]
  },
  {
   "cell_type": "code",
   "execution_count": 89,
   "id": "a4ff4732",
   "metadata": {},
   "outputs": [
    {
     "name": "stdout",
     "output_type": "stream",
     "text": [
      "테스트 데이터 분포\n"
     ]
    },
    {
     "data": {
      "image/png": "[encoded data removed]",
      "text/plain": [
       "<Figure size 1800x700 with 1 Axes>"
      ]
     },
     "metadata": {},
     "output_type": "display_data"
    }
   ],
   "source": [
    "# 카테고리의 분포 살펴보기\n",
    "\n",
    "%matplotlib inline\n",
    "plt.style.use(\"ggplot\")\n",
    "\n",
    "categories = df_test['newsCategory']\n",
    "clickbait = df_test['clickbaitClass']\n",
    "plt.figure(figsize=(18, 7)) # 그래프 이미지 크기 설정\n",
    "\n",
    "print('테스트 데이터 분포')\n",
    "\n",
    "_x = ['EC_c', 'EC_nc','ET_c', 'ET_nc', 'GB_c', 'GB_nc', 'IS_c', 'IS_nc', 'LC_c', 'LC_nc', 'PO_c', 'PO_nc', 'SO_c', 'SO_nc']\n",
    "_y = [0 for i in range(len(_x))]\n",
    "x_to_y = {'경제': 0, '연예': 1, '세계': 2, 'IT&과학': 3, '생활&문화': 4, '정치': 5, '사회':6}\n",
    "\n",
    "for i, category in enumerate(categories):\n",
    "    y_idx = x_to_y[category]\n",
    "\n",
    "    if not clickbait[i]: # 낚시\n",
    "        _y[y_idx*2] += 1\n",
    "    else: # 정상 뉴스\n",
    "        _y[y_idx*2+1] += 1\n",
    "        \n",
    "\n",
    "# temp = categories.value_counts() # feature 변수의 변수별 개수 계산\n",
    "plt.bar(_x, _y, width=0.2, color='b', alpha=0.5) # 막대그래프 생성\n",
    "plt.xticks()\n",
    "plt.show()"
   ]
  },
  {
   "cell_type": "code",
   "execution_count": 94,
   "id": "11b2e064",
   "metadata": {},
   "outputs": [
    {
     "name": "stdout",
     "output_type": "stream",
     "text": [
      "학습 데이터의 newsSubcategory\n",
      "연예가화제         39017\n",
      "정치일반          35382\n",
      "국제일반          30065\n",
      "정치            28479\n",
      "전국            23132\n",
      "              ...  \n",
      "전국일반              2\n",
      "IT                1\n",
      "여론조사              1\n",
      "사회,교육정책,대학        1\n",
      "국회                1\n",
      "Name: newsSubcategory, Length: 155, dtype: int64\n",
      "NaN 개수:  0\n",
      "\n",
      "테스트 데이터의 newsSubcategory\n",
      "정치일반           7754\n",
      "전국             6202\n",
      "방송             4751\n",
      "국제일반           3763\n",
      "사회일반           3061\n",
      "               ... \n",
      "가상통화 > 블록체인       4\n",
      "여론조사              4\n",
      "가상통화 > 정책         2\n",
      "포토                2\n",
      "파생                1\n",
      "Name: newsSubcategory, Length: 128, dtype: int64\n",
      "NaN 개수:  0\n"
     ]
    }
   ],
   "source": [
    "print('학습 데이터의 newsSubcategory')\n",
    "print(df_train['newsSubcategory'].value_counts())\n",
    "print('NaN 개수: ', df_train['newsSubcategory'].isna().sum())\n",
    "\n",
    "print('\\n테스트 데이터의 newsSubcategory')\n",
    "print(df_test['newsSubcategory'].value_counts())\n",
    "print('NaN 개수: ', df_test['newsSubcategory'].isna().sum())"
   ]
  },
  {
   "cell_type": "code",
   "execution_count": 95,
   "id": "de7abd2c",
   "metadata": {},
   "outputs": [
    {
     "name": "stdout",
     "output_type": "stream",
     "text": [
      "학습 데이터의 partNum\n",
      "P2    295266\n",
      "P1    291458\n",
      "Name: partNum, dtype: int64\n",
      "NaN 개수:  0\n",
      "\n",
      "테스트 데이터의 partNum\n",
      "P2    36899\n",
      "P1    36422\n",
      "Name: partNum, dtype: int64\n",
      "NaN 개수:  0\n"
     ]
    }
   ],
   "source": [
    "print('학습 데이터의 partNum')\n",
    "print(df_train['partNum'].value_counts())\n",
    "print('NaN 개수: ', df_train['partNum'].isna().sum())\n",
    "\n",
    "print('\\n테스트 데이터의 partNum')\n",
    "print(df_test['partNum'].value_counts())df\n",
    "print('NaN 개수: ', df_test['partNum'].isna().sum())"
   ]
  },
  {
   "cell_type": "code",
   "execution_count": 108,
   "id": "81155346",
   "metadata": {},
   "outputs": [
    {
     "name": "stdout",
     "output_type": "stream",
     "text": [
      "학습 데이터의 newsSubTitle\n",
      "null 개수: 147269\n",
      "subtitle 있는 데이터 개수:,  439455\n",
      "테스트 데이터의 newsSubTitle\n",
      "null 개수: 24747\n",
      "subtitle 있는 데이터 개수:,  48574\n"
     ]
    }
   ],
   "source": [
    "print('학습 데이터의 newsSubTitle')\n",
    "print('null 개수:', df_train['newsSubTitle'].value_counts()['null'])\n",
    "print('subtitle 있는 데이터 개수:, ', len(df_train)-df_train['newsSubTitle'].value_counts()['null'])\n",
    "\n",
    "\n",
    "print('\\n\\n테스트 데이터의 newsSubTitle')\n",
    "print('null 개수:', df_test['newsSubTitle'].value_counts()['null'])\n",
    "print('subtitle 있는 데이터 개수:, ', len(df_test)-df_test['newsSubTitle'].value_counts()['null'])"
   ]
  },
  {
   "cell_type": "code",
   "execution_count": 114,
   "id": "3f515fae",
   "metadata": {},
   "outputs": [
    {
     "name": "stdout",
     "output_type": "stream",
     "text": [
      "0    296035\n",
      "1    290689\n",
      "Name: useType, dtype: int64\n",
      "\n",
      "0    296035\n",
      "1    290689\n",
      "Name: clickbaitClass, dtype: int64\n",
      "\n",
      "\n"
     ]
    },
    {
     "data": {
      "text/plain": [
       "array([[<Axes: title={'center': 'useType'}>,\n",
       "        <Axes: title={'center': 'clickbaitClass'}>]], dtype=object)"
      ]
     },
     "execution_count": 114,
     "metadata": {},
     "output_type": "execute_result"
    },
    {
     "data": {
      "image/png": "[encoded data removed]",
      "text/plain": [
       "<Figure size 640x480 with 2 Axes>"
      ]
     },
     "metadata": {},
     "output_type": "display_data"
    }
   ],
   "source": [
    "# useType\n",
    "print(df_train['useType'].value_counts())\n",
    "print()\n",
    "print(df_train['clickbaitClass'].value_counts())\n",
    "\n",
    "print('\\n')\n",
    "df_train[['useType', 'clickbaitClass']].hist()"
   ]
  },
  {
   "cell_type": "code",
   "execution_count": 115,
   "id": "d9059205",
   "metadata": {},
   "outputs": [
    {
     "name": "stdout",
     "output_type": "stream",
     "text": [
      "0    36991\n",
      "1    36330\n",
      "Name: useType, dtype: int64\n",
      "\n",
      "0    36991\n",
      "1    36330\n",
      "Name: clickbaitClass, dtype: int64\n",
      "\n",
      "\n"
     ]
    },
    {
     "data": {
      "text/plain": [
       "array([[<Axes: title={'center': 'useType'}>,\n",
       "        <Axes: title={'center': 'clickbaitClass'}>]], dtype=object)"
      ]
     },
     "execution_count": 115,
     "metadata": {},
     "output_type": "execute_result"
    },
    {
     "data": {
      "image/png": "[encoded data removed]",
      "text/plain": [
       "<Figure size 640x480 with 2 Axes>"
      ]
     },
     "metadata": {},
     "output_type": "display_data"
    }
   ],
   "source": [
    "# useType\n",
    "print(df_test['useType'].value_counts())\n",
    "print()\n",
    "print(df_test['clickbaitClass'].value_counts())\n",
    "\n",
    "print('\\n')\n",
    "df_test[['useType', 'clickbaitClass']].hist()"
   ]
  },
  {
   "cell_type": "code",
   "execution_count": 117,
   "id": "5d8bf023",
   "metadata": {},
   "outputs": [
    {
     "name": "stdout",
     "output_type": "stream",
     "text": [
      "8     54432\n",
      "7     54033\n",
      "9     50596\n",
      "6     47414\n",
      "10    46224\n",
      "11    41253\n",
      "12    35673\n",
      "13    30510\n",
      "14    26990\n",
      "15    22907\n",
      "16    20403\n",
      "17    17659\n",
      "18    15734\n",
      "19    14067\n",
      "20    12759\n",
      "21    11573\n",
      "22    10132\n",
      "23     9117\n",
      "24     8044\n",
      "25     7041\n",
      "26     6141\n",
      "27     5638\n",
      "28     4749\n",
      "29     4315\n",
      "30     3724\n",
      "31     3432\n",
      "32     2855\n",
      "33     2700\n",
      "34     2309\n",
      "35     2103\n",
      "36     1875\n",
      "37     1653\n",
      "38     1518\n",
      "39     1352\n",
      "40     1156\n",
      "41     1055\n",
      "42      843\n",
      "43      708\n",
      "44      570\n",
      "45      506\n",
      "46      392\n",
      "47      267\n",
      "48      191\n",
      "49      111\n",
      "Name: sentenceCount, dtype: int64\n"
     ]
    },
    {
     "data": {
      "text/plain": [
       "<Axes: >"
      ]
     },
     "execution_count": 117,
     "metadata": {},
     "output_type": "execute_result"
    },
    {
     "data": {
      "image/png": "[encoded data removed]",
      "text/plain": [
       "<Figure size 640x480 with 1 Axes>"
      ]
     },
     "metadata": {},
     "output_type": "display_data"
    }
   ],
   "source": [
    "print(df_train['sentenceCount'].value_counts())\n",
    "df_train['sentenceCount'].hist()"
   ]
  },
  {
   "cell_type": "code",
   "execution_count": 118,
   "id": "4a47ee00",
   "metadata": {},
   "outputs": [
    {
     "name": "stdout",
     "output_type": "stream",
     "text": [
      "8     5810\n",
      "9     5686\n",
      "7     5648\n",
      "10    5219\n",
      "6     5041\n",
      "11    4913\n",
      "12    4398\n",
      "13    3791\n",
      "14    3564\n",
      "15    3155\n",
      "16    2952\n",
      "17    2694\n",
      "18    2404\n",
      "19    2220\n",
      "20    2037\n",
      "21    1744\n",
      "22    1622\n",
      "23    1447\n",
      "24    1215\n",
      "25    1105\n",
      "26     946\n",
      "27     870\n",
      "28     730\n",
      "29     561\n",
      "30     511\n",
      "31     469\n",
      "32     353\n",
      "33     351\n",
      "34     298\n",
      "35     251\n",
      "36     222\n",
      "37     211\n",
      "38     157\n",
      "39     130\n",
      "40     126\n",
      "42      91\n",
      "41      88\n",
      "43      66\n",
      "44      62\n",
      "45      51\n",
      "46      49\n",
      "47      30\n",
      "48      22\n",
      "49      11\n",
      "Name: sentenceCount, dtype: int64\n"
     ]
    },
    {
     "data": {
      "text/plain": [
       "<Axes: >"
      ]
     },
     "execution_count": 118,
     "metadata": {},
     "output_type": "execute_result"
    },
    {
     "data": {
      "image/png": "[encoded data removed]",
      "text/plain": [
       "<Figure size 640x480 with 1 Axes>"
      ]
     },
     "metadata": {},
     "output_type": "display_data"
    }
   ],
   "source": [
    "print(df_test['sentenceCount'].value_counts())\n",
    "df_test['sentenceCount'].hist()"
   ]
  },
  {
   "cell_type": "code",
   "execution_count": 122,
   "id": "94ba1a1d",
   "metadata": {},
   "outputs": [
    {
     "name": "stdout",
     "output_type": "stream",
     "text": [
      "학습 데이터의 process level\n",
      "하    535301\n",
      "중     30423\n",
      "상     21000\n",
      "Name: processLevel, dtype: int64\n",
      "\n",
      "테스트 데이터의 process level\n",
      "하    67489\n",
      "중     4484\n",
      "상     1348\n",
      "Name: processLevel, dtype: int64\n"
     ]
    }
   ],
   "source": [
    "# processLevel\n",
    "print('학습 데이터의 process level')\n",
    "print(df_train['processLevel'].value_counts())\n",
    "\n",
    "print()\n",
    "print('테스트 데이터의 process level')\n",
    "print(df_test['processLevel'].value_counts())"
   ]
  },
  {
   "cell_type": "code",
   "execution_count": 123,
   "id": "8d78902e",
   "metadata": {},
   "outputs": [
    {
     "name": "stdout",
     "output_type": "stream",
     "text": [
      "학습 데이터의 process type\n",
      "A    506514\n",
      "D     80210\n",
      "Name: processType, dtype: int64\n",
      "\n",
      "테스트 데이터의 process type\n",
      "A    63302\n",
      "D    10019\n",
      "Name: processType, dtype: int64\n"
     ]
    }
   ],
   "source": [
    "# processType\n",
    "print('학습 데이터의 process type')\n",
    "print(df_train['processType'].value_counts())\n",
    "\n",
    "print()\n",
    "print('테스트 데이터의 process type')\n",
    "print(df_test['processType'].value_counts())"
   ]
  },
  {
   "cell_type": "code",
   "execution_count": null,
   "id": "dd013aeb",
   "metadata": {},
   "outputs": [],
   "source": []
  }
 ],
 "metadata": {
  "kernelspec": {
   "display_name": "Python 3 (ipykernel)",
   "language": "python",
   "name": "python3"
  },
  "language_info": {
   "codemirror_mode": {
    "name": "ipython",
    "version": 3
   },
   "file_extension": ".py",
   "mimetype": "text/x-python",
   "name": "python",
   "nbconvert_exporter": "python",
   "pygments_lexer": "ipython3",
   "version": "3.11.6"
  }
 },
 "nbformat": 4,
 "nbformat_minor": 5
}
